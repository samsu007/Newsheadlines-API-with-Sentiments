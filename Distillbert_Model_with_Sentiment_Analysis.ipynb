{
  "nbformat": 4,
  "nbformat_minor": 0,
  "metadata": {
    "colab": {
      "name": "Distillbert Model - Pro1",
      "provenance": [],
      "collapsed_sections": [],
      "machine_shape": "hm",
      "authorship_tag": "ABX9TyP+6PlvH9pgqmwRqjUQ5YtP",
      "include_colab_link": true
    },
    "kernelspec": {
      "name": "python3",
      "display_name": "Python 3"
    },
    "language_info": {
      "name": "python"
    },
    "accelerator": "GPU"
  },
  "cells": [
    {
      "cell_type": "markdown",
      "metadata": {
        "id": "view-in-github",
        "colab_type": "text"
      },
      "source": [
        "<a href=\"https://colab.research.google.com/github/samsu007/Newsheadlines-API-with-Sentiments/blob/main/Distillbert_Model_with_Sentiment_Analysis.ipynb\" target=\"_parent\"><img src=\"https://colab.research.google.com/assets/colab-badge.svg\" alt=\"Open In Colab\"/></a>"
      ]
    },
    {
      "cell_type": "markdown",
      "metadata": {
        "id": "XXRfASeGUPeS"
      },
      "source": [
        "# Install libraries"
      ]
    },
    {
      "cell_type": "code",
      "metadata": {
        "id": "-WiamoBlB4Bn"
      },
      "source": [
        "!pip install flask-ngrok"
      ],
      "execution_count": null,
      "outputs": []
    },
    {
      "cell_type": "code",
      "metadata": {
        "id": "bgc1zHmw1Sqm"
      },
      "source": [
        "!pip install transformers"
      ],
      "execution_count": null,
      "outputs": []
    },
    {
      "cell_type": "code",
      "metadata": {
        "id": "OpKKlq0j63mB"
      },
      "source": [
        "!pip install flask flask-cors"
      ],
      "execution_count": null,
      "outputs": []
    },
    {
      "cell_type": "code",
      "metadata": {
        "id": "FEFdKKdrNEWy"
      },
      "source": [
        "!pip install requests"
      ],
      "execution_count": null,
      "outputs": []
    },
    {
      "cell_type": "markdown",
      "metadata": {
        "id": "1R3B0bLqUWFT"
      },
      "source": [
        "# Server Code"
      ]
    },
    {
      "cell_type": "code",
      "metadata": {
        "colab": {
          "base_uri": "https://localhost:8080/"
        },
        "id": "n1ybIIXxB-vR",
        "outputId": "23ff3c90-c755-497e-e2ae-35670975deb8"
      },
      "source": [
        "# app.py \n",
        "\n",
        "from flask import Flask,jsonify,request,render_template\n",
        "from flask_ngrok import run_with_ngrok\n",
        "from flask_cors import CORS, cross_origin\n",
        "import requests\n",
        "\n",
        "app = Flask(__name__,template_folder='/content')\n",
        "CORS(app, support_credentials=True)\n",
        "\n",
        "run_with_ngrok(app)  \n",
        "from transformers import pipeline\n",
        "classifier = pipeline('sentiment-analysis')\n",
        "\n",
        "title = []\n",
        "\n",
        "\n",
        "@app.route('/',methods = ['GET'])\n",
        "@cross_origin(supports_credentials=True)\n",
        "def sentiment():\n",
        "\n",
        "    r = requests.get(\"https://newsapi.org/v2/top-headlines?country=In&apiKey=##########################\")\n",
        "\n",
        "\n",
        "    for i in r.json()['articles']:\n",
        "      title.append({\"title\" : i['title'],\"sentiment\": classifier(i['title'])[0]['label']})\n",
        "\n",
        "    print(title[0]['title'])\n",
        "    return render_template('index.html', name = title)\n",
        "    \n",
        "app.run()"
      ],
      "execution_count": 54,
      "outputs": [
        {
          "output_type": "stream",
          "text": [
            " * Serving Flask app \"__main__\" (lazy loading)\n",
            " * Environment: production\n",
            "\u001b[31m   WARNING: This is a development server. Do not use it in a production deployment.\u001b[0m\n",
            "\u001b[2m   Use a production WSGI server instead.\u001b[0m\n",
            " * Debug mode: off\n"
          ],
          "name": "stdout"
        },
        {
          "output_type": "stream",
          "text": [
            " * Running on http://127.0.0.1:5000/ (Press CTRL+C to quit)\n"
          ],
          "name": "stderr"
        },
        {
          "output_type": "stream",
          "text": [
            " * Running on http://d013aeb59246.ngrok.io\n",
            " * Traffic stats available on http://127.0.0.1:4040\n"
          ],
          "name": "stdout"
        },
        {
          "output_type": "stream",
          "text": [
            "127.0.0.1 - - [14/Jun/2021 16:16:58] \"\u001b[37mGET / HTTP/1.1\u001b[0m\" 200 -\n"
          ],
          "name": "stderr"
        },
        {
          "output_type": "stream",
          "text": [
            "5 Indian summer drinks to boost your immunity - Times of India\n"
          ],
          "name": "stdout"
        },
        {
          "output_type": "stream",
          "text": [
            "127.0.0.1 - - [14/Jun/2021 16:16:59] \"\u001b[33mGET /favicon.ico HTTP/1.1\u001b[0m\" 404 -\n",
            "127.0.0.1 - - [14/Jun/2021 16:17:00] \"\u001b[37mGET / HTTP/1.1\u001b[0m\" 200 -\n"
          ],
          "name": "stderr"
        },
        {
          "output_type": "stream",
          "text": [
            "5 Indian summer drinks to boost your immunity - Times of India\n"
          ],
          "name": "stdout"
        }
      ]
    },
    {
      "cell_type": "markdown",
      "metadata": {
        "id": "Pd1CxQORUaFK"
      },
      "source": [
        "# Template Code"
      ]
    },
    {
      "cell_type": "code",
      "metadata": {
        "id": "q-pwCSXbUig2"
      },
      "source": [
        "# index.html\n",
        "\n",
        "<!doctype html>\n",
        "<head>\n",
        "\t<link rel=\"stylesheet\" href=\"https://stackpath.bootstrapcdn.com/bootstrap/4.1.3/css/bootstrap.min.css\"\n",
        "\t\tintegrity=\"sha384-MCw98/SFnGE8fJT3GXwEOngsV7Zt27NXFoaoApmYm81iuXoPkFOJwJ8ERdknLPMO\" crossorigin=\"anonymous\">\n",
        "</head>\n",
        "\n",
        "<body>\n",
        "\t<div class=\"container\">\n",
        "\t\t<center>\n",
        "\t\t\t<h3>Top News Headlines with Sentiments</h3>\n",
        "\n",
        "\t\t\t{%for i in name%}\n",
        "\t\t\t<div class=\"card\" style=\"width: 800px;\">\n",
        "\t\t\t\t<div class=\"card-body\">\n",
        "\t\t\t\t\t<p>{{i['title']}}</p>\n",
        "\t\t\t\t\t<button type=\"button\" class=\"btn btn-primary\">{{i['sentiment']}}</button>\n",
        "\t\t\t\t</div>\n",
        "\t\t\t</div>\n",
        "\t\t\t{%endfor%}\n",
        "\t\t</center>\n",
        "\t</div>\n",
        "\n",
        "\n",
        "\n",
        "\n",
        "\t<script src=\"https://code.jquery.com/jquery-3.3.1.slim.min.js\"\n",
        "\t\tintegrity=\"sha384-q8i/X+965DzO0rT7abK41JStQIAqVgRVzpbzo5smXKp4YfRvH+8abtTE1Pi6jizo\" crossorigin=\"anonymous\">\n",
        "\t</script>\n",
        "\t<script src=\"https://cdnjs.cloudflare.com/ajax/libs/popper.js/1.14.3/umd/popper.min.js\"\n",
        "\t\tintegrity=\"sha384-ZMP7rVo3mIykV+2+9J3UJ46jBk0WLaUAdn689aCwoqbBJiSnjAK/l8WvCWPIPm49\" crossorigin=\"anonymous\">\n",
        "\t</script>\n",
        "\t<script src=\"https://stackpath.bootstrapcdn.com/bootstrap/4.1.3/js/bootstrap.min.js\"\n",
        "\t\tintegrity=\"sha384-ChfqqxuZUCnJSK3+MXmPNIyE6ZbWh2IMqE241rYiqJxyMiZ6OW/JmZQ5stwEULTy\" crossorigin=\"anonymous\">\n",
        "\t</script>\n",
        "</body>\n",
        "<html>"
      ],
      "execution_count": null,
      "outputs": []
    }
  ]
}